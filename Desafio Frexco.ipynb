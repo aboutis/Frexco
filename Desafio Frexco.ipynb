{
 "cells": [
  {
   "cell_type": "code",
   "execution_count": 200,
   "id": "75ed77bc",
   "metadata": {},
   "outputs": [],
   "source": [
    "import numpy as np\n",
    "import pandas as pd "
   ]
  },
  {
   "cell_type": "code",
   "execution_count": 201,
   "id": "74a9380b",
   "metadata": {},
   "outputs": [],
   "source": [
    "dados = pd.read_excel(r\"C:\\Users\\biama\\Downloads\\Dados.xlsx\") #dados das vendas"
   ]
  },
  {
   "cell_type": "code",
   "execution_count": 202,
   "id": "aebfd851",
   "metadata": {},
   "outputs": [
    {
     "data": {
      "text/html": [
       "<div>\n",
       "<style scoped>\n",
       "    .dataframe tbody tr th:only-of-type {\n",
       "        vertical-align: middle;\n",
       "    }\n",
       "\n",
       "    .dataframe tbody tr th {\n",
       "        vertical-align: top;\n",
       "    }\n",
       "\n",
       "    .dataframe thead th {\n",
       "        text-align: right;\n",
       "    }\n",
       "</style>\n",
       "<table border=\"1\" class=\"dataframe\">\n",
       "  <thead>\n",
       "    <tr style=\"text-align: right;\">\n",
       "      <th></th>\n",
       "      <th>Data</th>\n",
       "      <th>Vendas</th>\n",
       "    </tr>\n",
       "  </thead>\n",
       "  <tbody>\n",
       "    <tr>\n",
       "      <th>0</th>\n",
       "      <td>2022-12-06</td>\n",
       "      <td>870</td>\n",
       "    </tr>\n",
       "    <tr>\n",
       "      <th>1</th>\n",
       "      <td>2022-12-07</td>\n",
       "      <td>868</td>\n",
       "    </tr>\n",
       "    <tr>\n",
       "      <th>2</th>\n",
       "      <td>2022-12-08</td>\n",
       "      <td>1189</td>\n",
       "    </tr>\n",
       "    <tr>\n",
       "      <th>3</th>\n",
       "      <td>2022-12-09</td>\n",
       "      <td>742</td>\n",
       "    </tr>\n",
       "    <tr>\n",
       "      <th>4</th>\n",
       "      <td>2022-12-10</td>\n",
       "      <td>317</td>\n",
       "    </tr>\n",
       "  </tbody>\n",
       "</table>\n",
       "</div>"
      ],
      "text/plain": [
       "        Data  Vendas\n",
       "0 2022-12-06     870\n",
       "1 2022-12-07     868\n",
       "2 2022-12-08    1189\n",
       "3 2022-12-09     742\n",
       "4 2022-12-10     317"
      ]
     },
     "execution_count": 202,
     "metadata": {},
     "output_type": "execute_result"
    }
   ],
   "source": [
    "dados.head()"
   ]
  },
  {
   "cell_type": "code",
   "execution_count": 218,
   "id": "debf80eb",
   "metadata": {},
   "outputs": [],
   "source": [
    "rolling_mean = dados['Vendas'].rolling(window=5).mean()"
   ]
  },
  {
   "cell_type": "code",
   "execution_count": 219,
   "id": "beb14d35",
   "metadata": {},
   "outputs": [],
   "source": [
    "rolling_mean = rolling_mean.fillna(dados['Vendas'].mean())"
   ]
  },
  {
   "cell_type": "code",
   "execution_count": 220,
   "id": "710d5bbd",
   "metadata": {},
   "outputs": [],
   "source": [
    "dados['rolling_mean'] = rolling_mean"
   ]
  },
  {
   "cell_type": "code",
   "execution_count": 223,
   "id": "1620e71f",
   "metadata": {},
   "outputs": [],
   "source": [
    "forecast = pd.DataFrame(data={'date': dados['Data'][-5:], 'demand_forecast': np.round(dados['rolling_mean'][-5:])})"
   ]
  },
  {
   "cell_type": "code",
   "execution_count": 224,
   "id": "10f0b636",
   "metadata": {},
   "outputs": [
    {
     "name": "stdout",
     "output_type": "stream",
     "text": [
      "         date  demand_forecast\n",
      "41 2023-01-16            941.0\n",
      "42 2023-01-17            907.0\n",
      "43 2023-01-18            989.0\n",
      "44 2023-01-19           1212.0\n",
      "45 2023-01-20           1288.0\n"
     ]
    }
   ],
   "source": [
    "print(forecast)"
   ]
  },
  {
   "cell_type": "code",
   "execution_count": null,
   "id": "7a9ef396",
   "metadata": {},
   "outputs": [],
   "source": []
  }
 ],
 "metadata": {
  "kernelspec": {
   "display_name": "Python 3 (ipykernel)",
   "language": "python",
   "name": "python3"
  },
  "language_info": {
   "codemirror_mode": {
    "name": "ipython",
    "version": 3
   },
   "file_extension": ".py",
   "mimetype": "text/x-python",
   "name": "python",
   "nbconvert_exporter": "python",
   "pygments_lexer": "ipython3",
   "version": "3.9.13"
  }
 },
 "nbformat": 4,
 "nbformat_minor": 5
}
